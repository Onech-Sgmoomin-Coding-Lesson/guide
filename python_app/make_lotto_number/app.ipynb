{
 "cells": [
  {
   "cell_type": "code",
   "execution_count": 1,
   "metadata": {},
   "outputs": [
    {
     "name": "stdout",
     "output_type": "stream",
     "text": [
      "[1, 2, 4, 11, 25, 41]\n"
     ]
    }
   ],
   "source": [
    "import random\n",
    "\n",
    "lotto_num_list  = []\n",
    "\n",
    "while(len(lotto_num_list) < 6):\n",
    "    number = random.randrange(1,46)\n",
    "    if not number in lotto_num_list:\n",
    "        lotto_num_list.append(number)\n",
    "\n",
    "lotto_num_list = sorted(lotto_num_list)\n",
    "\n",
    "print(lotto_num_list)"
   ]
  },
  {
   "cell_type": "code",
   "execution_count": 2,
   "metadata": {},
   "outputs": [
    {
     "ename": "",
     "evalue": "",
     "output_type": "error",
     "traceback": [
      "\u001b[1;31mThe Kernel crashed while executing code in the the current cell or a previous cell. Please review the code in the cell(s) to identify a possible cause of the failure. Click <a href='https://aka.ms/vscodeJupyterKernelCrash'>here</a> for more info. View Jupyter <a href='command:jupyter.viewOutput'>log</a> for further details."
     ]
    }
   ],
   "source": [
    "import tkinter as tk\n",
    "from tkinter import Label, Button\n",
    "import random\n",
    "\n",
    "def generate_lotto_numbers():\n",
    "    lotto_num_list = []\n",
    "    while len(lotto_num_list) < 6:\n",
    "        number = random.randrange(1, 46)\n",
    "        if number not in lotto_num_list:\n",
    "            lotto_num_list.append(number)\n",
    "    lotto_num_list = sorted(lotto_num_list)\n",
    "    result_label.config(text=f\"생성된 번호: {lotto_num_list}\")\n",
    "\n",
    "# 메인 창 생성\n",
    "window = tk.Tk()\n",
    "window.title(\"로또 번호 생성기\")\n",
    "\n",
    "# 위젯 생성 및 구성\n",
    "generate_button = Button(window, text=\"번호 생성\", command=generate_lotto_numbers)\n",
    "generate_button.pack(pady=10)\n",
    "\n",
    "result_label = Label(window, text=\"\")\n",
    "result_label.pack()\n",
    "\n",
    "# GUI 이벤트 루프 시작\n",
    "window.mainloop()"
   ]
  }
 ],
 "metadata": {
  "kernelspec": {
   "display_name": "jupyter_notebook",
   "language": "python",
   "name": "python3"
  },
  "language_info": {
   "codemirror_mode": {
    "name": "ipython",
    "version": 3
   },
   "file_extension": ".py",
   "mimetype": "text/x-python",
   "name": "python",
   "nbconvert_exporter": "python",
   "pygments_lexer": "ipython3",
   "version": "3.12.1"
  }
 },
 "nbformat": 4,
 "nbformat_minor": 2
}
