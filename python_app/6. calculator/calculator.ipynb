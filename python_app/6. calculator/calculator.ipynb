{
 "cells": [
  {
   "cell_type": "code",
   "execution_count": null,
   "metadata": {},
   "outputs": [],
   "source": [
    "################################\n",
    "# 선언 Line\n",
    "################################\n",
    "import tkinter as tkin   # random 함수 선언\n",
    "\n",
    "################################\n",
    "# 공통 변수/함수 Line\n",
    "################################\n",
    "timerValue = 0\n",
    "\n",
    "################################\n",
    "# Main\n",
    "################################\n",
    "\n",
    "window = tkin.TK()\n",
    "window.title(\"계산기\")\n",
    "\n",
    "window.mainloop()\n",
    "\n"
   ]
  },
  {
   "cell_type": "markdown",
   "metadata": {},
   "source": []
  }
 ],
 "metadata": {
  "language_info": {
   "name": "python"
  }
 },
 "nbformat": 4,
 "nbformat_minor": 2
}
