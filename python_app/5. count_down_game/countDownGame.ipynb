{
 "cells": [
  {
   "cell_type": "code",
   "execution_count": 9,
   "metadata": {},
   "outputs": [
    {
     "name": "stdout",
     "output_type": "stream",
     "text": [
      "10\n",
      "9\n",
      "8\n",
      "7\n",
      "6\n",
      "5\n",
      "4\n",
      "3\n",
      "2\n",
      "1\n",
      "CountDown!!!\n"
     ]
    }
   ],
   "source": [
    "################################\n",
    "# 선언 Line\n",
    "################################\n",
    "import time   # time \n",
    "\n",
    "################################\n",
    "# 공통 변수/함수 Line\n",
    "################################\n",
    "timerValue = 0\n",
    "\n",
    "################################\n",
    "# Main\n",
    "################################\n",
    "\n",
    "# 제귀\n",
    "def countDownSeconds(timerValue):\n",
    "    time.sleep(1)\n",
    "    if(timerValue <= 0):\n",
    "        print(\"Count Down!!\")\n",
    "    else:\n",
    "        print(timerValue)\n",
    "        countDownSeconds(timerValue - 1)    \n",
    "\n",
    "# 반복문\n",
    "def countDownCycleSeconds(timerValue):\n",
    "    while timerValue > 0:\n",
    "        time.sleep(1)\n",
    "        print(timerValue)\n",
    "        timerValue -= 1\n",
    "    print(\"CountDown!!!\")\n",
    "\n",
    "\n",
    "timerValue = int(input(\"카운트 다운을 위한 시간(초)를 입력해주세요\"))\n",
    "countDownCycleSeconds(timerValue)"
   ]
  },
  {
   "cell_type": "code",
   "execution_count": null,
   "metadata": {},
   "outputs": [],
   "source": [
    "# 추후 시간 될 때 시분초로 변경 예정"
   ]
  }
 ],
 "metadata": {
  "kernelspec": {
   "display_name": "Python 3",
   "language": "python",
   "name": "python3"
  },
  "language_info": {
   "codemirror_mode": {
    "name": "ipython",
    "version": 3
   },
   "file_extension": ".py",
   "mimetype": "text/x-python",
   "name": "python",
   "nbconvert_exporter": "python",
   "pygments_lexer": "ipython3",
   "version": "3.8.9"
  }
 },
 "nbformat": 4,
 "nbformat_minor": 2
}
