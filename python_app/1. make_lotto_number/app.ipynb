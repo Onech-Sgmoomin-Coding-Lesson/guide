{
 "cells": [
  {
   "cell_type": "code",
   "execution_count": 3,
   "metadata": {},
   "outputs": [
    {
     "name": "stdout",
     "output_type": "stream",
     "text": [
      "[11, 13, 26, 35, 37, 42]\n"
     ]
    }
   ],
   "source": [
    "import random\n",
    "\n",
    "lotto_num_list  = []\n",
    "\n",
    "while(len(lotto_num_list) < 6):\n",
    "    number = random.randrange(1,46)\n",
    "    if not number in lotto_num_list:\n",
    "        lotto_num_list.append(number)\n",
    "\n",
    "lotto_num_list = sorted(lotto_num_list)\n",
    "\n",
    "print(lotto_num_list)"
   ]
  },
  {
   "cell_type": "code",
   "execution_count": 2,
   "metadata": {},
   "outputs": [],
   "source": [
    "import tkinter as tk\n",
    "from tkinter import Label, Button\n",
    "import random\n",
    "\n",
    "def generate_lotto_numbers():\n",
    "    lotto_num_list = []\n",
    "    lotto_num = []\n",
    "    for i in range(5):\n",
    "        while len(lotto_num_list) < 6:\n",
    "            number = random.randrange(1, 46)\n",
    "            if number not in lotto_num_list:\n",
    "                lotto_num_list.append(number)\n",
    "        lotto_num_list = sorted(lotto_num_list)\n",
    "        lotto_num.append(lotto_num_list)\n",
    "        lotto_num_list = []\n",
    "    lotto_num_list = sorted(lotto_num_list)\n",
    "    result_label1.config(text=f\"{str(lotto_num[0])[1:-1]}\")\n",
    "    result_label2.config(text=f\"{str(lotto_num[1])[1:-1]}\")\n",
    "    result_label3.config(text=f\"{str(lotto_num[2])[1:-1]}\")\n",
    "    result_label4.config(text=f\"{str(lotto_num[3])[1:-1]}\")\n",
    "    result_label5.config(text=f\"{str(lotto_num[4])[1:-1]}\")\n",
    "\n",
    "# 메인 창 생성\n",
    "window = tk.Tk()\n",
    "window.geometry(\"300x200\")\n",
    "window.title(\"로또 번호 생성기\")\n",
    "\n",
    "# 위젯 생성 및 구성\n",
    "generate_button = Button(window, text=\"번호 생성\", command=generate_lotto_numbers)\n",
    "generate_button.pack(pady=10)\n",
    "\n",
    "result_label1 = Label(window, text=\"number 1\", width=15, highlightbackground='gray', highlightthickness=1)\n",
    "result_label2 = Label(window, text=\"number 2\", width=15, highlightbackground='gray', highlightthickness=1)\n",
    "result_label3 = Label(window, text=\"number 3\", width=15, highlightbackground='gray', highlightthickness=1)\n",
    "result_label4 = Label(window, text=\"number 4\", width=15, highlightbackground='gray', highlightthickness=1)\n",
    "result_label5 = Label(window, text=\"number 5\", width=15, highlightbackground='gray', highlightthickness=1)\n",
    "\n",
    "result_label1.pack()\n",
    "result_label2.pack()\n",
    "result_label3.pack()\n",
    "result_label4.pack()\n",
    "result_label5.pack()\n",
    "\n",
    "\n",
    "# GUI 이벤트 루프 시작\n",
    "window.mainloop()"
   ]
  }
 ],
 "metadata": {
  "kernelspec": {
   "display_name": "jupyter_notebook",
   "language": "python",
   "name": "python3"
  },
  "language_info": {
   "codemirror_mode": {
    "name": "ipython",
    "version": 3
   },
   "file_extension": ".py",
   "mimetype": "text/x-python",
   "name": "python",
   "nbconvert_exporter": "python",
   "pygments_lexer": "ipython3",
   "version": "3.12.1"
  }
 },
 "nbformat": 4,
 "nbformat_minor": 2
}
