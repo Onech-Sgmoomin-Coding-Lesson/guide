{
 "cells": [
  {
   "cell_type": "code",
   "execution_count": 2,
   "metadata": {},
   "outputs": [
    {
     "name": "stdout",
     "output_type": "stream",
     "text": [
      "Up Down Game To Start\n",
      "다운!!\n",
      "다운!!\n",
      "다운!!\n",
      "업!!\n",
      "업!!\n",
      "업!!\n",
      "업!!\n",
      "업!!\n",
      "업!!\n",
      "다운!!\n",
      "업!!\n",
      "정답!!\n",
      "12 입력 만에 맞췄습니다!\n"
     ]
    }
   ],
   "source": [
    "################################\n",
    "# 선언 Line\n",
    "################################\n",
    "import random   # random 함수 선언\n",
    "\n",
    "################################\n",
    "# 공통 변수/함수 Line\n",
    "################################\n",
    "converRandomNumber = random.randint(1, 99)  # 1~99 Random \n",
    "inputNumber = 0\n",
    "selectCount = 0\n",
    "\n",
    "################################\n",
    "# Main\n",
    "################################\n",
    "print(\"Up Down Game To Start\")\n",
    "\n",
    "while  inputNumber != converRandomNumber:\n",
    "    selectCount += 1\n",
    "    inputNumber = int(input(\"1~99 사이 숫자를 입력해주세요! : \"))\n",
    "\n",
    "    if inputNumber < converRandomNumber:\n",
    "        print(\"업!! --> \", \"입력하신 숫자는\", inputNumber, \"입니다.\")\n",
    "    elif inputNumber > converRandomNumber:\n",
    "        print(\"다운!!--> \", \"입력하신 숫자는\", inputNumber, \"입니다.\")\n",
    "    elif inputNumber == converRandomNumber:\n",
    "        print(\"정답!!\")\n",
    "        print(\"정답은\", converRandomNumber, \"입니다.\")\n",
    "        print(selectCount, \"번 입력 만에 맞췄습니다!\")"
   ]
  }
 ],
 "metadata": {
  "kernelspec": {
   "display_name": "Python 3",
   "language": "python",
   "name": "python3"
  },
  "language_info": {
   "codemirror_mode": {
    "name": "ipython",
    "version": 3
   },
   "file_extension": ".py",
   "mimetype": "text/x-python",
   "name": "python",
   "nbconvert_exporter": "python",
   "pygments_lexer": "ipython3",
   "version": "3.8.9"
  }
 },
 "nbformat": 4,
 "nbformat_minor": 2
}
