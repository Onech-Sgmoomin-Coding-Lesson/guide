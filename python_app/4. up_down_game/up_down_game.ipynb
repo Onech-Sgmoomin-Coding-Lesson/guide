{
 "cells": [
  {
   "cell_type": "code",
   "execution_count": null,
   "metadata": {},
   "outputs": [
    {
     "ename": "",
     "evalue": "",
     "output_type": "error",
     "traceback": [
      "\u001b[1;31m'/usr/bin/python3'(으)로 셀을 실행하려면 ipykernel 패키지가 필요합니다.\n",
      "\u001b[1;31m다음 명령어를 실행하여 Python 환경에 'ipykernel'을(를) 설치합니다. \n",
      "\u001b[1;31m 명령: '/usr/bin/python3 -m pip install ipykernel -U --user --force-reinstall'"
     ]
    }
   ],
   "source": [
    "################################\n",
    "# 선언 Line\n",
    "################################\n",
    "import random   # random 함수 선언\n",
    "\n",
    "################################\n",
    "# 공통 변수/함수 Line\n",
    "################################\n",
    "converRandomNumber = random.randint(1, 99)  # 1~99 Random \n",
    "inputNumber = 0\n",
    "selectCount = 0\n",
    "\n",
    "################################\n",
    "# Main\n",
    "################################\n",
    "print(\"Up Down Game To Start\")\n",
    "\n",
    "while  inputNumber != converRandomNumber:\n",
    "    selectCount += 1\n",
    "    inputNumber = int(input(\"1~99 사이 숫자를 입력해주세요! : \"))\n",
    "\n",
    "    if inputNumber < converRandomNumber:\n",
    "        print(\"업!!\")\n",
    "    elif inputNumber > converRandomNumber:\n",
    "        print(\"다운!!\")\n",
    "    elif inputNumber == converRandomNumber:\n",
    "        print(\"정답!!\")\n",
    "        print(selectCount + \"입력 만에 맞췄습니다!\")"
   ]
  }
 ],
 "metadata": {
  "kernelspec": {
   "display_name": "Python 3",
   "language": "python",
   "name": "python3"
  },
  "language_info": {
   "name": "python",
   "version": "3.0.0"
  }
 },
 "nbformat": 4,
 "nbformat_minor": 2
}
