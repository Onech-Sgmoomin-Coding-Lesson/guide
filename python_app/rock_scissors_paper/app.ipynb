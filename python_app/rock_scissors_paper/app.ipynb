{
 "cells": [
  {
   "cell_type": "markdown",
   "metadata": {},
   "source": [
    "쉽게"
   ]
  },
  {
   "cell_type": "code",
   "execution_count": 6,
   "metadata": {},
   "outputs": [
    {
     "name": "stdout",
     "output_type": "stream",
     "text": [
      "무엇을 낼 것인가요? \n",
      "1.rock 2.scissors 3.paper\n",
      "cpu : scissors\n",
      "me : paper\n",
      "졌네요.. 다음엔 힘내봅시다\n"
     ]
    }
   ],
   "source": [
    "import random\n",
    "\n",
    "flag = False\n",
    "transform_dict = {1:\"rock\", 2:\"scissors\", 3:\"paper\"}\n",
    "\n",
    "while(flag==False):\n",
    "    cpu_choice = int(random.randrange(1,4))\n",
    "\n",
    "    print(\"무엇을 낼 것인가요? \\n1.rock 2.scissors 3.paper\")\n",
    "\n",
    "    choice = int(input())\n",
    "\n",
    "# rock\n",
    "    if choice==1:\n",
    "        if cpu_choice==1:\n",
    "            print(f\"cpu : {transform_dict[cpu_choice]}\")\n",
    "            print(f\"me : {transform_dict[choice]}\")\n",
    "            print(\"비겼네요! 다시!\")\n",
    "\n",
    "        elif cpu_choice==2:\n",
    "            print(f\"cpu : {transform_dict[cpu_choice]}\")\n",
    "            print(f\"me : {transform_dict[choice]}\")\n",
    "            print(\"이겼습니다! 축하합니다!\")\n",
    "            flag = True\n",
    "\n",
    "        elif cpu_choice==3:\n",
    "            print(f\"cpu : {transform_dict[cpu_choice]}\")\n",
    "            print(f\"me : {transform_dict[choice]}\")\n",
    "            print(\"졌네요.. 다음엔 힘내봅시다\")\n",
    "            flag = True\n",
    "\n",
    "# scissors\n",
    "    elif choice==2:\n",
    "        if cpu_choice==1:\n",
    "            print(f\"cpu : {transform_dict[cpu_choice]}\")\n",
    "            print(f\"me : {transform_dict[choice]}\")\n",
    "            print(\"졌네요.. 다음엔 힘내봅시다\")\n",
    "            flag = True\n",
    "\n",
    "        elif cpu_choice==2:\n",
    "            print(f\"cpu : {transform_dict[cpu_choice]}\")\n",
    "            print(f\"me : {transform_dict[choice]}\")\n",
    "            print(\"비겼네요! 다시!\")\n",
    "            \n",
    "        elif cpu_choice==3:\n",
    "            print(f\"cpu : {transform_dict[cpu_choice]}\")\n",
    "            print(f\"me : {transform_dict[choice]}\")\n",
    "            print(\"이겼습니다! 축하합니다!\")\n",
    "            flag = True\n",
    "\n",
    "\n",
    "# papper\n",
    "    elif choice==3:\n",
    "        if cpu_choice==1:\n",
    "            print(f\"cpu : {transform_dict[cpu_choice]}\")\n",
    "            print(f\"me : {transform_dict[choice]}\")\n",
    "            print(\"이겼습니다! 축하합니다!\")\n",
    "            flag = True\n",
    "\n",
    "        elif cpu_choice==2:\n",
    "            print(f\"cpu : {transform_dict[cpu_choice]}\")\n",
    "            print(f\"me : {transform_dict[choice]}\")\n",
    "            print(\"졌네요.. 다음엔 힘내봅시다\")\n",
    "            flag = True\n",
    "\n",
    "        elif cpu_choice==3:\n",
    "            print(f\"cpu : {transform_dict[cpu_choice]}\")\n",
    "            print(f\"me : {transform_dict[choice]}\")\n",
    "            print(\"비겼네요! 다시!\")\n",
    "            \n",
    "\n",
    "    else:\n",
    "        print(\"잘못된 값을 입력하였습니다.\")\n",
    "        continue"
   ]
  },
  {
   "cell_type": "markdown",
   "metadata": {},
   "source": [
    "짧게"
   ]
  },
  {
   "cell_type": "code",
   "execution_count": 2,
   "metadata": {},
   "outputs": [
    {
     "name": "stdout",
     "output_type": "stream",
     "text": [
      "무엇을 낼 것인가요? \n",
      "1.rock 2.scissors 3.paper\n",
      "cpu : paper\n",
      "me : scissors\n",
      "이겼습니다! 축하합니다!\n"
     ]
    }
   ],
   "source": [
    "import random\n",
    "\n",
    "flag = False\n",
    "transform_dict = {1: \"rock\", 2: \"scissors\", 3: \"paper\"}\n",
    "\n",
    "while not flag:\n",
    "    cpu_choice = random.randint(1, 3)\n",
    "\n",
    "    print(\"무엇을 낼 것인가요? \\n1.rock 2.scissors 3.paper\")\n",
    "    choice = int(input())\n",
    "\n",
    "    if choice not in {1, 2, 3}:\n",
    "        print(\"잘못된 값을 입력하였습니다.\")\n",
    "        continue\n",
    "\n",
    "    print(f\"cpu : {transform_dict[cpu_choice]}\")\n",
    "    print(f\"me : {transform_dict[choice]}\")\n",
    "\n",
    "    if (choice, cpu_choice) in {(1, 2), (2, 3), (3, 1)}:\n",
    "        print(\"이겼습니다! 축하합니다!\")\n",
    "        flag = True\n",
    "    elif (choice, cpu_choice) == (cpu_choice, choice):\n",
    "        print(\"비겼네요! 다시!\")\n",
    "    else:\n",
    "        print(\"졌네요.. 다음엔 힘내봅시다\")\n",
    "        flag = True"
   ]
  },
  {
   "cell_type": "code",
   "execution_count": 3,
   "metadata": {},
   "outputs": [
    {
     "ename": "",
     "evalue": "",
     "output_type": "error",
     "traceback": [
      "\u001b[1;31mThe Kernel crashed while executing code in the the current cell or a previous cell. Please review the code in the cell(s) to identify a possible cause of the failure. Click <a href='https://aka.ms/vscodeJupyterKernelCrash'>here</a> for more info. View Jupyter <a href='command:jupyter.viewOutput'>log</a> for further details."
     ]
    }
   ],
   "source": [
    "import tkinter as tk\n",
    "from tkinter import Label, Button\n",
    "import random\n",
    "\n",
    "def play_game(choice):\n",
    "    cpu_choice = random.randint(1, 3)\n",
    "    result = determine_winner(choice, cpu_choice)\n",
    "\n",
    "    result_label.config(text=f\"CPU: {transform_dict[cpu_choice]}\\nYou: {transform_dict[choice]}\\n{result}\")\n",
    "\n",
    "def determine_winner(user_choice, cpu_choice):\n",
    "    if user_choice == cpu_choice:\n",
    "        return \"It's a tie! Play again.\"\n",
    "    elif (user_choice == 1 and cpu_choice == 2) or (user_choice == 2 and cpu_choice == 3) or (user_choice == 3 and cpu_choice == 1):\n",
    "        return \"You won! Congratulations!\"\n",
    "    else:\n",
    "        return \"You lost. Better luck next time.\"\n",
    "\n",
    "# 메인 창 생성\n",
    "window = tk.Tk()\n",
    "window.title(\"Rock, Scissors, Paper Game\")\n",
    "\n",
    "# 위젯 생성 및 구성\n",
    "rock_button = Button(window, text=\"Rock\", command=lambda: play_game(1))\n",
    "rock_button.pack(pady=10)\n",
    "\n",
    "scissors_button = Button(window, text=\"Scissors\", command=lambda: play_game(2))\n",
    "scissors_button.pack(pady=10)\n",
    "\n",
    "paper_button = Button(window, text=\"Paper\", command=lambda: play_game(3))\n",
    "paper_button.pack(pady=10)\n",
    "\n",
    "result_label = Label(window, text=\"\")\n",
    "result_label.pack()\n",
    "\n",
    "# GUI 이벤트 루프 시작\n",
    "window.mainloop()"
   ]
  }
 ],
 "metadata": {
  "kernelspec": {
   "display_name": "jupyter_notebook",
   "language": "python",
   "name": "python3"
  },
  "language_info": {
   "codemirror_mode": {
    "name": "ipython",
    "version": 3
   },
   "file_extension": ".py",
   "mimetype": "text/x-python",
   "name": "python",
   "nbconvert_exporter": "python",
   "pygments_lexer": "ipython3",
   "version": "3.12.1"
  }
 },
 "nbformat": 4,
 "nbformat_minor": 2
}
